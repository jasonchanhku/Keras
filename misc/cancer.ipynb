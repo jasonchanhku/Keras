{
 "cells": [
  {
   "cell_type": "markdown",
   "metadata": {},
   "source": [
    "### Quick Implementation and Tuning"
   ]
  },
  {
   "cell_type": "code",
   "execution_count": 2,
   "metadata": {},
   "outputs": [],
   "source": [
    "# Importing libraries\n",
    "import pandas as pd\n",
    "import numpy as np\n",
    "import matplotlib.pyplot as plt\n",
    "import seaborn as sns\n",
    "\n",
    "# Importing data\n",
    "data = pd.read_csv('data.csv')\n",
    "del data['Unnamed: 32']"
   ]
  },
  {
   "cell_type": "code",
   "execution_count": 3,
   "metadata": {},
   "outputs": [
    {
     "data": {
      "text/html": [
       "<div>\n",
       "<style scoped>\n",
       "    .dataframe tbody tr th:only-of-type {\n",
       "        vertical-align: middle;\n",
       "    }\n",
       "\n",
       "    .dataframe tbody tr th {\n",
       "        vertical-align: top;\n",
       "    }\n",
       "\n",
       "    .dataframe thead th {\n",
       "        text-align: right;\n",
       "    }\n",
       "</style>\n",
       "<table border=\"1\" class=\"dataframe\">\n",
       "  <thead>\n",
       "    <tr style=\"text-align: right;\">\n",
       "      <th></th>\n",
       "      <th>id</th>\n",
       "      <th>diagnosis</th>\n",
       "      <th>radius_mean</th>\n",
       "      <th>texture_mean</th>\n",
       "      <th>perimeter_mean</th>\n",
       "      <th>area_mean</th>\n",
       "      <th>smoothness_mean</th>\n",
       "      <th>compactness_mean</th>\n",
       "      <th>concavity_mean</th>\n",
       "      <th>concave points_mean</th>\n",
       "      <th>...</th>\n",
       "      <th>radius_worst</th>\n",
       "      <th>texture_worst</th>\n",
       "      <th>perimeter_worst</th>\n",
       "      <th>area_worst</th>\n",
       "      <th>smoothness_worst</th>\n",
       "      <th>compactness_worst</th>\n",
       "      <th>concavity_worst</th>\n",
       "      <th>concave points_worst</th>\n",
       "      <th>symmetry_worst</th>\n",
       "      <th>fractal_dimension_worst</th>\n",
       "    </tr>\n",
       "  </thead>\n",
       "  <tbody>\n",
       "    <tr>\n",
       "      <th>0</th>\n",
       "      <td>842302</td>\n",
       "      <td>M</td>\n",
       "      <td>17.99</td>\n",
       "      <td>10.38</td>\n",
       "      <td>122.80</td>\n",
       "      <td>1001.0</td>\n",
       "      <td>0.11840</td>\n",
       "      <td>0.27760</td>\n",
       "      <td>0.3001</td>\n",
       "      <td>0.14710</td>\n",
       "      <td>...</td>\n",
       "      <td>25.38</td>\n",
       "      <td>17.33</td>\n",
       "      <td>184.60</td>\n",
       "      <td>2019.0</td>\n",
       "      <td>0.1622</td>\n",
       "      <td>0.6656</td>\n",
       "      <td>0.7119</td>\n",
       "      <td>0.2654</td>\n",
       "      <td>0.4601</td>\n",
       "      <td>0.11890</td>\n",
       "    </tr>\n",
       "    <tr>\n",
       "      <th>1</th>\n",
       "      <td>842517</td>\n",
       "      <td>M</td>\n",
       "      <td>20.57</td>\n",
       "      <td>17.77</td>\n",
       "      <td>132.90</td>\n",
       "      <td>1326.0</td>\n",
       "      <td>0.08474</td>\n",
       "      <td>0.07864</td>\n",
       "      <td>0.0869</td>\n",
       "      <td>0.07017</td>\n",
       "      <td>...</td>\n",
       "      <td>24.99</td>\n",
       "      <td>23.41</td>\n",
       "      <td>158.80</td>\n",
       "      <td>1956.0</td>\n",
       "      <td>0.1238</td>\n",
       "      <td>0.1866</td>\n",
       "      <td>0.2416</td>\n",
       "      <td>0.1860</td>\n",
       "      <td>0.2750</td>\n",
       "      <td>0.08902</td>\n",
       "    </tr>\n",
       "    <tr>\n",
       "      <th>2</th>\n",
       "      <td>84300903</td>\n",
       "      <td>M</td>\n",
       "      <td>19.69</td>\n",
       "      <td>21.25</td>\n",
       "      <td>130.00</td>\n",
       "      <td>1203.0</td>\n",
       "      <td>0.10960</td>\n",
       "      <td>0.15990</td>\n",
       "      <td>0.1974</td>\n",
       "      <td>0.12790</td>\n",
       "      <td>...</td>\n",
       "      <td>23.57</td>\n",
       "      <td>25.53</td>\n",
       "      <td>152.50</td>\n",
       "      <td>1709.0</td>\n",
       "      <td>0.1444</td>\n",
       "      <td>0.4245</td>\n",
       "      <td>0.4504</td>\n",
       "      <td>0.2430</td>\n",
       "      <td>0.3613</td>\n",
       "      <td>0.08758</td>\n",
       "    </tr>\n",
       "    <tr>\n",
       "      <th>3</th>\n",
       "      <td>84348301</td>\n",
       "      <td>M</td>\n",
       "      <td>11.42</td>\n",
       "      <td>20.38</td>\n",
       "      <td>77.58</td>\n",
       "      <td>386.1</td>\n",
       "      <td>0.14250</td>\n",
       "      <td>0.28390</td>\n",
       "      <td>0.2414</td>\n",
       "      <td>0.10520</td>\n",
       "      <td>...</td>\n",
       "      <td>14.91</td>\n",
       "      <td>26.50</td>\n",
       "      <td>98.87</td>\n",
       "      <td>567.7</td>\n",
       "      <td>0.2098</td>\n",
       "      <td>0.8663</td>\n",
       "      <td>0.6869</td>\n",
       "      <td>0.2575</td>\n",
       "      <td>0.6638</td>\n",
       "      <td>0.17300</td>\n",
       "    </tr>\n",
       "    <tr>\n",
       "      <th>4</th>\n",
       "      <td>84358402</td>\n",
       "      <td>M</td>\n",
       "      <td>20.29</td>\n",
       "      <td>14.34</td>\n",
       "      <td>135.10</td>\n",
       "      <td>1297.0</td>\n",
       "      <td>0.10030</td>\n",
       "      <td>0.13280</td>\n",
       "      <td>0.1980</td>\n",
       "      <td>0.10430</td>\n",
       "      <td>...</td>\n",
       "      <td>22.54</td>\n",
       "      <td>16.67</td>\n",
       "      <td>152.20</td>\n",
       "      <td>1575.0</td>\n",
       "      <td>0.1374</td>\n",
       "      <td>0.2050</td>\n",
       "      <td>0.4000</td>\n",
       "      <td>0.1625</td>\n",
       "      <td>0.2364</td>\n",
       "      <td>0.07678</td>\n",
       "    </tr>\n",
       "  </tbody>\n",
       "</table>\n",
       "<p>5 rows × 32 columns</p>\n",
       "</div>"
      ],
      "text/plain": [
       "         id diagnosis  radius_mean  texture_mean  perimeter_mean  area_mean  \\\n",
       "0    842302         M        17.99         10.38          122.80     1001.0   \n",
       "1    842517         M        20.57         17.77          132.90     1326.0   \n",
       "2  84300903         M        19.69         21.25          130.00     1203.0   \n",
       "3  84348301         M        11.42         20.38           77.58      386.1   \n",
       "4  84358402         M        20.29         14.34          135.10     1297.0   \n",
       "\n",
       "   smoothness_mean  compactness_mean  concavity_mean  concave points_mean  \\\n",
       "0          0.11840           0.27760          0.3001              0.14710   \n",
       "1          0.08474           0.07864          0.0869              0.07017   \n",
       "2          0.10960           0.15990          0.1974              0.12790   \n",
       "3          0.14250           0.28390          0.2414              0.10520   \n",
       "4          0.10030           0.13280          0.1980              0.10430   \n",
       "\n",
       "            ...             radius_worst  texture_worst  perimeter_worst  \\\n",
       "0           ...                    25.38          17.33           184.60   \n",
       "1           ...                    24.99          23.41           158.80   \n",
       "2           ...                    23.57          25.53           152.50   \n",
       "3           ...                    14.91          26.50            98.87   \n",
       "4           ...                    22.54          16.67           152.20   \n",
       "\n",
       "   area_worst  smoothness_worst  compactness_worst  concavity_worst  \\\n",
       "0      2019.0            0.1622             0.6656           0.7119   \n",
       "1      1956.0            0.1238             0.1866           0.2416   \n",
       "2      1709.0            0.1444             0.4245           0.4504   \n",
       "3       567.7            0.2098             0.8663           0.6869   \n",
       "4      1575.0            0.1374             0.2050           0.4000   \n",
       "\n",
       "   concave points_worst  symmetry_worst  fractal_dimension_worst  \n",
       "0                0.2654          0.4601                  0.11890  \n",
       "1                0.1860          0.2750                  0.08902  \n",
       "2                0.2430          0.3613                  0.08758  \n",
       "3                0.2575          0.6638                  0.17300  \n",
       "4                0.1625          0.2364                  0.07678  \n",
       "\n",
       "[5 rows x 32 columns]"
      ]
     },
     "execution_count": 3,
     "metadata": {},
     "output_type": "execute_result"
    }
   ],
   "source": [
    "data.head()"
   ]
  },
  {
   "cell_type": "code",
   "execution_count": 20,
   "metadata": {},
   "outputs": [
    {
     "data": {
      "text/plain": [
       "B    357\n",
       "M    212\n",
       "Name: diagnosis, dtype: int64"
      ]
     },
     "execution_count": 20,
     "metadata": {},
     "output_type": "execute_result"
    }
   ],
   "source": [
    "data['diagnosis'].value_counts() "
   ]
  },
  {
   "cell_type": "markdown",
   "metadata": {},
   "source": [
    "### Remember keras only accepts arrays"
   ]
  },
  {
   "cell_type": "code",
   "execution_count": 66,
   "metadata": {},
   "outputs": [],
   "source": [
    "X = data.iloc[:, 2:].values\n",
    "y = data.iloc[:, 1].values"
   ]
  },
  {
   "cell_type": "markdown",
   "metadata": {},
   "source": [
    "### Encoding, Splitting and Scaling"
   ]
  },
  {
   "cell_type": "code",
   "execution_count": 67,
   "metadata": {},
   "outputs": [],
   "source": [
    "from sklearn.preprocessing import LabelEncoder, StandardScaler\n",
    "from sklearn.model_selection import train_test_split"
   ]
  },
  {
   "cell_type": "code",
   "execution_count": 68,
   "metadata": {},
   "outputs": [],
   "source": [
    "# Encoding\n",
    "# 1 is Malignant 0 is Benign\n",
    "labelencoder_X_1 = LabelEncoder()\n",
    "y = labelencoder_X_1.fit_transform(y)"
   ]
  },
  {
   "cell_type": "code",
   "execution_count": 69,
   "metadata": {},
   "outputs": [],
   "source": [
    "# Splitting\n",
    "X_train, X_test, y_train, y_test = train_test_split(X, y, test_size=0.2, random_state=0)"
   ]
  },
  {
   "cell_type": "code",
   "execution_count": 70,
   "metadata": {},
   "outputs": [],
   "source": [
    "# Scaling\n",
    "# fir transform the train and only transform the test\n",
    "sc = StandardScaler()\n",
    "X_train = sc.fit_transform(X_train)\n",
    "X_test = sc.transform(X_test)"
   ]
  },
  {
   "cell_type": "markdown",
   "metadata": {},
   "source": [
    "### Keras Modelling"
   ]
  },
  {
   "cell_type": "code",
   "execution_count": 71,
   "metadata": {},
   "outputs": [],
   "source": [
    "import keras\n",
    "from keras.models import Sequential\n",
    "from keras.layers import Dense, Dropout\n",
    "from keras.callbacks import TensorBoard"
   ]
  },
  {
   "cell_type": "code",
   "execution_count": 72,
   "metadata": {},
   "outputs": [],
   "source": [
    "classifier = Sequential()\n",
    "classifier.add(Dense(16, input_shape=(X_train.shape[1], ), activation = \"relu\"))\n",
    "#classifier.add(Dropout(0.1))\n",
    "classifier.add(Dense(16, activation = \"relu\"))\n",
    "#classifier.add(Dropout(0.1))\n",
    "classifier.add(Dense(1, activation=\"sigmoid\"))"
   ]
  },
  {
   "cell_type": "code",
   "execution_count": 73,
   "metadata": {},
   "outputs": [
    {
     "name": "stdout",
     "output_type": "stream",
     "text": [
      "_________________________________________________________________\n",
      "Layer (type)                 Output Shape              Param #   \n",
      "=================================================================\n",
      "dense_17 (Dense)             (None, 16)                496       \n",
      "_________________________________________________________________\n",
      "dense_18 (Dense)             (None, 16)                272       \n",
      "_________________________________________________________________\n",
      "dense_19 (Dense)             (None, 1)                 17        \n",
      "=================================================================\n",
      "Total params: 785\n",
      "Trainable params: 785\n",
      "Non-trainable params: 0\n",
      "_________________________________________________________________\n"
     ]
    }
   ],
   "source": [
    "classifier.summary()"
   ]
  },
  {
   "cell_type": "code",
   "execution_count": 74,
   "metadata": {},
   "outputs": [],
   "source": [
    "classifier.compile(optimizer='adam', loss='binary_crossentropy', metrics=['accuracy'])"
   ]
  },
  {
   "cell_type": "code",
   "execution_count": 75,
   "metadata": {},
   "outputs": [
    {
     "name": "stdout",
     "output_type": "stream",
     "text": [
      "Train on 455 samples, validate on 114 samples\n",
      "Epoch 1/50\n",
      "455/455 [==============================] - 1s 1ms/step - loss: 0.6846 - acc: 0.5692 - val_loss: 0.6335 - val_acc: 0.5965\n",
      "Epoch 2/50\n",
      "455/455 [==============================] - 0s 84us/step - loss: 0.5183 - acc: 0.6330 - val_loss: 0.5149 - val_acc: 0.6140\n",
      "Epoch 3/50\n",
      "455/455 [==============================] - 0s 83us/step - loss: 0.4278 - acc: 0.6681 - val_loss: 0.4422 - val_acc: 0.6667\n",
      "Epoch 4/50\n",
      "455/455 [==============================] - 0s 84us/step - loss: 0.3689 - acc: 0.7802 - val_loss: 0.3925 - val_acc: 0.8246\n",
      "Epoch 5/50\n",
      "455/455 [==============================] - 0s 81us/step - loss: 0.3244 - acc: 0.9033 - val_loss: 0.3500 - val_acc: 0.9123\n",
      "Epoch 6/50\n",
      "455/455 [==============================] - 0s 83us/step - loss: 0.2842 - acc: 0.9385 - val_loss: 0.3071 - val_acc: 0.9123\n",
      "Epoch 7/50\n",
      "455/455 [==============================] - 0s 78us/step - loss: 0.2450 - acc: 0.9495 - val_loss: 0.2666 - val_acc: 0.9298\n",
      "Epoch 8/50\n",
      "455/455 [==============================] - 0s 78us/step - loss: 0.2091 - acc: 0.9604 - val_loss: 0.2279 - val_acc: 0.9386\n",
      "Epoch 9/50\n",
      "455/455 [==============================] - 0s 81us/step - loss: 0.1759 - acc: 0.9626 - val_loss: 0.1994 - val_acc: 0.9298\n",
      "Epoch 10/50\n",
      "455/455 [==============================] - 0s 79us/step - loss: 0.1516 - acc: 0.9648 - val_loss: 0.1755 - val_acc: 0.9386\n",
      "Epoch 11/50\n",
      "455/455 [==============================] - 0s 84us/step - loss: 0.1324 - acc: 0.9714 - val_loss: 0.1602 - val_acc: 0.9386\n",
      "Epoch 12/50\n",
      "455/455 [==============================] - 0s 80us/step - loss: 0.1189 - acc: 0.9736 - val_loss: 0.1502 - val_acc: 0.9386\n",
      "Epoch 13/50\n",
      "455/455 [==============================] - 0s 84us/step - loss: 0.1093 - acc: 0.9736 - val_loss: 0.1451 - val_acc: 0.9386\n",
      "Epoch 14/50\n",
      "455/455 [==============================] - 0s 80us/step - loss: 0.1014 - acc: 0.9736 - val_loss: 0.1386 - val_acc: 0.9386\n",
      "Epoch 15/50\n",
      "455/455 [==============================] - 0s 82us/step - loss: 0.0951 - acc: 0.9758 - val_loss: 0.1346 - val_acc: 0.9386\n",
      "Epoch 16/50\n",
      "455/455 [==============================] - 0s 88us/step - loss: 0.0893 - acc: 0.9758 - val_loss: 0.1317 - val_acc: 0.9474\n",
      "Epoch 17/50\n",
      "455/455 [==============================] - 0s 83us/step - loss: 0.0845 - acc: 0.9802 - val_loss: 0.1306 - val_acc: 0.9474\n",
      "Epoch 18/50\n",
      "455/455 [==============================] - 0s 84us/step - loss: 0.0806 - acc: 0.9802 - val_loss: 0.1289 - val_acc: 0.9474\n",
      "Epoch 19/50\n",
      "455/455 [==============================] - 0s 84us/step - loss: 0.0769 - acc: 0.9802 - val_loss: 0.1282 - val_acc: 0.9474\n",
      "Epoch 20/50\n",
      "455/455 [==============================] - 0s 84us/step - loss: 0.0739 - acc: 0.9802 - val_loss: 0.1280 - val_acc: 0.9561\n",
      "Epoch 21/50\n",
      "455/455 [==============================] - 0s 82us/step - loss: 0.0709 - acc: 0.9802 - val_loss: 0.1278 - val_acc: 0.9561\n",
      "Epoch 22/50\n",
      "455/455 [==============================] - 0s 81us/step - loss: 0.0686 - acc: 0.9802 - val_loss: 0.1293 - val_acc: 0.9561\n",
      "Epoch 23/50\n",
      "455/455 [==============================] - 0s 83us/step - loss: 0.0663 - acc: 0.9802 - val_loss: 0.1287 - val_acc: 0.9561\n",
      "Epoch 24/50\n",
      "455/455 [==============================] - 0s 82us/step - loss: 0.0641 - acc: 0.9802 - val_loss: 0.1288 - val_acc: 0.9561\n",
      "Epoch 25/50\n",
      "455/455 [==============================] - 0s 78us/step - loss: 0.0623 - acc: 0.9868 - val_loss: 0.1304 - val_acc: 0.9561\n",
      "Epoch 26/50\n",
      "455/455 [==============================] - 0s 83us/step - loss: 0.0605 - acc: 0.9868 - val_loss: 0.1309 - val_acc: 0.9561\n",
      "Epoch 27/50\n",
      "455/455 [==============================] - 0s 83us/step - loss: 0.0587 - acc: 0.9868 - val_loss: 0.1316 - val_acc: 0.9561\n",
      "Epoch 28/50\n",
      "455/455 [==============================] - 0s 78us/step - loss: 0.0573 - acc: 0.9868 - val_loss: 0.1324 - val_acc: 0.9561\n",
      "Epoch 29/50\n",
      "455/455 [==============================] - 0s 76us/step - loss: 0.0557 - acc: 0.9868 - val_loss: 0.1339 - val_acc: 0.9561\n",
      "Epoch 30/50\n",
      "455/455 [==============================] - 0s 67us/step - loss: 0.0544 - acc: 0.9868 - val_loss: 0.1345 - val_acc: 0.9561\n",
      "Epoch 31/50\n",
      "455/455 [==============================] - 0s 71us/step - loss: 0.0531 - acc: 0.9868 - val_loss: 0.1378 - val_acc: 0.9561\n",
      "Epoch 32/50\n",
      "455/455 [==============================] - 0s 76us/step - loss: 0.0516 - acc: 0.9890 - val_loss: 0.1396 - val_acc: 0.9649\n",
      "Epoch 33/50\n",
      "455/455 [==============================] - 0s 80us/step - loss: 0.0504 - acc: 0.9890 - val_loss: 0.1403 - val_acc: 0.9649\n",
      "Epoch 34/50\n",
      "455/455 [==============================] - 0s 84us/step - loss: 0.0492 - acc: 0.9890 - val_loss: 0.1404 - val_acc: 0.9561\n",
      "Epoch 35/50\n",
      "455/455 [==============================] - 0s 79us/step - loss: 0.0480 - acc: 0.9890 - val_loss: 0.1421 - val_acc: 0.9649\n",
      "Epoch 36/50\n",
      "455/455 [==============================] - 0s 80us/step - loss: 0.0471 - acc: 0.9890 - val_loss: 0.1451 - val_acc: 0.9649\n",
      "Epoch 37/50\n",
      "455/455 [==============================] - 0s 80us/step - loss: 0.0459 - acc: 0.9890 - val_loss: 0.1455 - val_acc: 0.9649\n",
      "Epoch 38/50\n",
      "455/455 [==============================] - 0s 79us/step - loss: 0.0448 - acc: 0.9890 - val_loss: 0.1466 - val_acc: 0.9649\n",
      "Epoch 39/50\n",
      "455/455 [==============================] - 0s 84us/step - loss: 0.0439 - acc: 0.9890 - val_loss: 0.1471 - val_acc: 0.9649\n",
      "Epoch 40/50\n",
      "455/455 [==============================] - 0s 83us/step - loss: 0.0434 - acc: 0.9890 - val_loss: 0.1487 - val_acc: 0.9649\n",
      "Epoch 41/50\n",
      "455/455 [==============================] - 0s 83us/step - loss: 0.0420 - acc: 0.9890 - val_loss: 0.1482 - val_acc: 0.9649\n",
      "Epoch 42/50\n",
      "455/455 [==============================] - 0s 82us/step - loss: 0.0414 - acc: 0.9890 - val_loss: 0.1478 - val_acc: 0.9649\n",
      "Epoch 43/50\n",
      "455/455 [==============================] - 0s 77us/step - loss: 0.0413 - acc: 0.9912 - val_loss: 0.1444 - val_acc: 0.9561\n",
      "Epoch 44/50\n",
      "455/455 [==============================] - 0s 77us/step - loss: 0.0397 - acc: 0.9912 - val_loss: 0.1456 - val_acc: 0.9649\n",
      "Epoch 45/50\n",
      "455/455 [==============================] - 0s 84us/step - loss: 0.0392 - acc: 0.9912 - val_loss: 0.1485 - val_acc: 0.9649\n",
      "Epoch 46/50\n",
      "455/455 [==============================] - 0s 83us/step - loss: 0.0384 - acc: 0.9912 - val_loss: 0.1487 - val_acc: 0.9649\n",
      "Epoch 47/50\n",
      "455/455 [==============================] - 0s 72us/step - loss: 0.0377 - acc: 0.9912 - val_loss: 0.1486 - val_acc: 0.9649\n",
      "Epoch 48/50\n",
      "455/455 [==============================] - 0s 77us/step - loss: 0.0369 - acc: 0.9912 - val_loss: 0.1496 - val_acc: 0.9649\n",
      "Epoch 49/50\n",
      "455/455 [==============================] - 0s 76us/step - loss: 0.0370 - acc: 0.9912 - val_loss: 0.1502 - val_acc: 0.9649\n",
      "Epoch 50/50\n",
      "455/455 [==============================] - 0s 80us/step - loss: 0.0360 - acc: 0.9912 - val_loss: 0.1485 - val_acc: 0.9649\n"
     ]
    },
    {
     "data": {
      "text/plain": [
       "<keras.callbacks.History at 0x7f87a87d4ba8>"
      ]
     },
     "execution_count": 75,
     "metadata": {},
     "output_type": "execute_result"
    }
   ],
   "source": [
    "classifier.fit(X_train, y_train, batch_size=32, epochs=50, validation_data=(X_test, y_test), verbose = 1)"
   ]
  },
  {
   "cell_type": "code",
   "execution_count": 78,
   "metadata": {},
   "outputs": [
    {
     "data": {
      "image/png": "[encoded data removed]",
      "text/plain": [
       "<Figure size 432x288 with 1 Axes>"
      ]
     },
     "metadata": {},
     "output_type": "display_data"
    }
   ],
   "source": [
    "plt.plot(classifier.history.history['loss'])\n",
    "plt.plot(classifier.history.history['val_loss'])\n",
    "plt.legend(['train', 'test'], loc='upper right')\n",
    "plt.title('Model loss over epochs')\n",
    "plt.show()"
   ]
  },
  {
   "cell_type": "markdown",
   "metadata": {},
   "source": [
    "### Confusion Matrix"
   ]
  },
  {
   "cell_type": "code",
   "execution_count": 79,
   "metadata": {},
   "outputs": [],
   "source": [
    "from sklearn.metrics import confusion_matrix"
   ]
  },
  {
   "cell_type": "code",
   "execution_count": 82,
   "metadata": {},
   "outputs": [],
   "source": [
    "y_pred = classifier.predict(X_test)\n",
    "y_pred = (y_pred > 0.5)"
   ]
  },
  {
   "cell_type": "code",
   "execution_count": 88,
   "metadata": {},
   "outputs": [],
   "source": [
    "cm = confusion_matrix(y_pred, y_test)"
   ]
  },
  {
   "cell_type": "code",
   "execution_count": 90,
   "metadata": {},
   "outputs": [
    {
     "data": {
      "image/png": "[encoded data removed]",
      "text/plain": [
       "<Figure size 432x288 with 2 Axes>"
      ]
     },
     "metadata": {},
     "output_type": "display_data"
    }
   ],
   "source": [
    "import seaborn as sns\n",
    "sns.heatmap(cm,annot=True)\n",
    "plt.show()"
   ]
  },
  {
   "cell_type": "code",
   "execution_count": 96,
   "metadata": {},
   "outputs": [
    {
     "name": "stdout",
     "output_type": "stream",
     "text": [
      "precision is: 0.9701492537313433\n",
      "recall is: 0.9701492537313433\n",
      "accuracy is: 0.9649122807017544\n"
     ]
    }
   ],
   "source": [
    "print(f\"precision is: {cm[0][0] / (cm[0][0] + cm[0][1])}\")\n",
    "print(f\"recall is: {cm[0][0] / (cm[0][0] + cm[1][0])}\")\n",
    "print(f\"accuracy is: {(cm[0][0] + cm[1][1]) / 114}\")"
   ]
  },
  {
   "cell_type": "code",
   "execution_count": 107,
   "metadata": {},
   "outputs": [
    {
     "data": {
      "text/plain": [
       "0.9831692600825659"
      ]
     },
     "execution_count": 107,
     "metadata": {},
     "output_type": "execute_result"
    }
   ],
   "source": [
    "from sklearn import metrics\n",
    "y_pred = classifier.predict(X_test)\n",
    "fpr, tpr, thres = metrics.roc_curve(y_test, y_pred)\n",
    "metrics.auc(fpr, tpr)"
   ]
  },
  {
   "cell_type": "code",
   "execution_count": null,
   "metadata": {},
   "outputs": [],
   "source": []
  }
 ],
 "metadata": {
  "kernelspec": {
   "display_name": "Python 3",
   "language": "python",
   "name": "python3"
  },
  "language_info": {
   "codemirror_mode": {
    "name": "ipython",
    "version": 3
   },
   "file_extension": ".py",
   "mimetype": "text/x-python",
   "name": "python",
   "nbconvert_exporter": "python",
   "pygments_lexer": "ipython3",
   "version": "3.6.5"
  }
 },
 "nbformat": 4,
 "nbformat_minor": 2
}
