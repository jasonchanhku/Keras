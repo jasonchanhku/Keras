{
 "cells": [
  {
   "cell_type": "markdown",
   "metadata": {},
   "source": [
    "### LSTM quick implementation "
   ]
  },
  {
   "cell_type": "code",
   "execution_count": 2,
   "metadata": {},
   "outputs": [
    {
     "name": "stderr",
     "output_type": "stream",
     "text": [
      "/home/jasonchandatascience/anaconda3/lib/python3.6/site-packages/h5py/__init__.py:36: FutureWarning: Conversion of the second argument of issubdtype from `float` to `np.floating` is deprecated. In future, it will be treated as `np.float64 == np.dtype(float).type`.\n",
      "  from ._conv import register_converters as _register_converters\n",
      "Using TensorFlow backend.\n"
     ]
    }
   ],
   "source": [
    "# Importing the libraries\n",
    "import numpy as np\n",
    "import matplotlib.pyplot as plt\n",
    "plt.style.use('fivethirtyeight')\n",
    "import pandas as pd\n",
    "from sklearn.preprocessing import MinMaxScaler\n",
    "from keras.models import Sequential\n",
    "from keras.layers import Dense, LSTM, Dropout, GRU, Bidirectional\n",
    "from keras.optimizers import SGD\n",
    "import math\n",
    "from sklearn.metrics import mean_squared_error"
   ]
  },
  {
   "cell_type": "code",
   "execution_count": 66,
   "metadata": {},
   "outputs": [],
   "source": [
    "# helper functions\n",
    "\n",
    "# Some functions to help out with\n",
    "def plot_predictions(test,predicted):\n",
    "    plt.figure(figsize=(15, 8))\n",
    "    plt.plot(test, color='red',label='Real IBM Stock Price')\n",
    "    plt.plot(predicted, color='blue',label='Predicted IBM Stock Price')\n",
    "    plt.title('IBM Stock Price Prediction')\n",
    "    plt.xlabel('Time')\n",
    "    plt.ylabel('IBM Stock Price')\n",
    "    plt.legend()\n",
    "    plt.show()\n",
    "\n",
    "def return_rmse(test,predicted):\n",
    "    rmse = math.sqrt(mean_squared_error(test, predicted))\n",
    "    print(\"The root mean squared error is {}.\".format(rmse))"
   ]
  },
  {
   "cell_type": "code",
   "execution_count": 7,
   "metadata": {},
   "outputs": [
    {
     "data": {
      "text/html": [
       "<div>\n",
       "<style scoped>\n",
       "    .dataframe tbody tr th:only-of-type {\n",
       "        vertical-align: middle;\n",
       "    }\n",
       "\n",
       "    .dataframe tbody tr th {\n",
       "        vertical-align: top;\n",
       "    }\n",
       "\n",
       "    .dataframe thead th {\n",
       "        text-align: right;\n",
       "    }\n",
       "</style>\n",
       "<table border=\"1\" class=\"dataframe\">\n",
       "  <thead>\n",
       "    <tr style=\"text-align: right;\">\n",
       "      <th></th>\n",
       "      <th>Open</th>\n",
       "      <th>High</th>\n",
       "      <th>Low</th>\n",
       "      <th>Close</th>\n",
       "      <th>Volume</th>\n",
       "      <th>Name</th>\n",
       "    </tr>\n",
       "    <tr>\n",
       "      <th>Date</th>\n",
       "      <th></th>\n",
       "      <th></th>\n",
       "      <th></th>\n",
       "      <th></th>\n",
       "      <th></th>\n",
       "      <th></th>\n",
       "    </tr>\n",
       "  </thead>\n",
       "  <tbody>\n",
       "    <tr>\n",
       "      <th>2006-01-03</th>\n",
       "      <td>82.45</td>\n",
       "      <td>82.55</td>\n",
       "      <td>80.81</td>\n",
       "      <td>82.06</td>\n",
       "      <td>11715200</td>\n",
       "      <td>IBM</td>\n",
       "    </tr>\n",
       "    <tr>\n",
       "      <th>2006-01-04</th>\n",
       "      <td>82.20</td>\n",
       "      <td>82.50</td>\n",
       "      <td>81.33</td>\n",
       "      <td>81.95</td>\n",
       "      <td>9840600</td>\n",
       "      <td>IBM</td>\n",
       "    </tr>\n",
       "    <tr>\n",
       "      <th>2006-01-05</th>\n",
       "      <td>81.40</td>\n",
       "      <td>82.90</td>\n",
       "      <td>81.00</td>\n",
       "      <td>82.50</td>\n",
       "      <td>7213500</td>\n",
       "      <td>IBM</td>\n",
       "    </tr>\n",
       "    <tr>\n",
       "      <th>2006-01-06</th>\n",
       "      <td>83.95</td>\n",
       "      <td>85.03</td>\n",
       "      <td>83.41</td>\n",
       "      <td>84.95</td>\n",
       "      <td>8197400</td>\n",
       "      <td>IBM</td>\n",
       "    </tr>\n",
       "    <tr>\n",
       "      <th>2006-01-09</th>\n",
       "      <td>84.10</td>\n",
       "      <td>84.25</td>\n",
       "      <td>83.38</td>\n",
       "      <td>83.73</td>\n",
       "      <td>6858200</td>\n",
       "      <td>IBM</td>\n",
       "    </tr>\n",
       "  </tbody>\n",
       "</table>\n",
       "</div>"
      ],
      "text/plain": [
       "             Open   High    Low  Close    Volume Name\n",
       "Date                                                 \n",
       "2006-01-03  82.45  82.55  80.81  82.06  11715200  IBM\n",
       "2006-01-04  82.20  82.50  81.33  81.95   9840600  IBM\n",
       "2006-01-05  81.40  82.90  81.00  82.50   7213500  IBM\n",
       "2006-01-06  83.95  85.03  83.41  84.95   8197400  IBM\n",
       "2006-01-09  84.10  84.25  83.38  83.73   6858200  IBM"
      ]
     },
     "execution_count": 7,
     "metadata": {},
     "output_type": "execute_result"
    }
   ],
   "source": [
    "dataset = pd.read_csv('IBM_2006-01-01_to_2018-01-01.csv', index_col='Date', parse_dates=['Date'])\n",
    "dataset.head()"
   ]
  },
  {
   "cell_type": "code",
   "execution_count": 14,
   "metadata": {},
   "outputs": [],
   "source": [
    "training_set = dataset[: '2016'].iloc[:, 1:2].values\n",
    "test_set = dataset['2017': ].iloc[:, 1:2].values"
   ]
  },
  {
   "cell_type": "markdown",
   "metadata": {},
   "source": [
    "### Quick Plot"
   ]
  },
  {
   "cell_type": "code",
   "execution_count": 17,
   "metadata": {},
   "outputs": [
    {
     "data": {
      "image/png": "[encoded data removed]",
      "text/plain": [
       "<Figure size 1152x288 with 1 Axes>"
      ]
     },
     "metadata": {},
     "output_type": "display_data"
    }
   ],
   "source": [
    "dataset[\"High\"][: '2016'].plot(figsize=(16, 4), legend=True)\n",
    "dataset[\"High\"]['2017': ].plot(figsize=(16, 4), legend=True)\n",
    "plt.legend(['Training set (Before 2017)','Test set (2017 and beyond)'])\n",
    "plt.title('IBM stock price')\n",
    "plt.show()"
   ]
  },
  {
   "cell_type": "markdown",
   "metadata": {},
   "source": [
    "### Scaling"
   ]
  },
  {
   "cell_type": "code",
   "execution_count": 18,
   "metadata": {},
   "outputs": [],
   "source": [
    "sc = MinMaxScaler()\n",
    "training_set_scaled = sc.fit_transform(training_set)"
   ]
  },
  {
   "cell_type": "code",
   "execution_count": 19,
   "metadata": {},
   "outputs": [
    {
     "data": {
      "text/plain": [
       "(2769, 1)"
      ]
     },
     "execution_count": 19,
     "metadata": {},
     "output_type": "execute_result"
    }
   ],
   "source": [
    "training_set.shape"
   ]
  },
  {
   "cell_type": "markdown",
   "metadata": {},
   "source": [
    "### Sequencing"
   ]
  },
  {
   "cell_type": "code",
   "execution_count": 30,
   "metadata": {},
   "outputs": [],
   "source": [
    "# Since LSTMs store long term memory state, we create a data structure with 60 timesteps and 1 output\n",
    "# So for each element of training set, we have 60 previous training set elements \n",
    "X_train = []\n",
    "y_train = []\n",
    "for i in range(60,training_set.shape[0]):\n",
    "    X_train.append(training_set_scaled[i-60:i,0])\n",
    "    y_train.append(training_set_scaled[i,0])"
   ]
  },
  {
   "cell_type": "code",
   "execution_count": 26,
   "metadata": {},
   "outputs": [
    {
     "data": {
      "text/plain": [
       "array([0.06065089, 0.06029868, 0.06311637, 0.0781206 , 0.07262609,\n",
       "       0.07171034, 0.07657087, 0.07058326, 0.0669907 , 0.06494787,\n",
       "       0.075796  , 0.07361229, 0.06417301, 0.05621302, 0.05783319,\n",
       "       0.05409975, 0.05431107, 0.05515638, 0.05543815, 0.05677656,\n",
       "       0.05846717, 0.05388842, 0.04811214, 0.04233587, 0.04402649,\n",
       "       0.0490279 , 0.04832347, 0.05297267, 0.05614258, 0.05290223,\n",
       "       0.05325444, 0.04909834, 0.04994365, 0.04797126, 0.05431107,\n",
       "       0.05212736, 0.04726684, 0.04895745, 0.04656241, 0.04839391,\n",
       "       0.04416737, 0.0485348 , 0.04719639, 0.04825303, 0.05395886,\n",
       "       0.05663567, 0.05853762, 0.05959425, 0.06375035, 0.06917442,\n",
       "       0.06889265, 0.06670893, 0.06910397, 0.07783883, 0.07565511,\n",
       "       0.07276698, 0.06889265, 0.0656523 , 0.06656805, 0.06769513])"
      ]
     },
     "execution_count": 26,
     "metadata": {},
     "output_type": "execute_result"
    }
   ],
   "source": [
    "training_set_scaled[0:60, 0]\n"
   ]
  },
  {
   "cell_type": "code",
   "execution_count": 29,
   "metadata": {},
   "outputs": [
    {
     "data": {
      "text/plain": [
       "0.06875176105945335"
      ]
     },
     "execution_count": 29,
     "metadata": {},
     "output_type": "execute_result"
    }
   ],
   "source": [
    "training_set_scaled[60, 0]"
   ]
  },
  {
   "cell_type": "code",
   "execution_count": 36,
   "metadata": {},
   "outputs": [
    {
     "data": {
      "text/plain": [
       "array([0.06065089, 0.06029868, 0.06311637, 0.0781206 , 0.07262609,\n",
       "       0.07171034, 0.07657087, 0.07058326, 0.0669907 , 0.06494787,\n",
       "       0.075796  , 0.07361229, 0.06417301, 0.05621302, 0.05783319,\n",
       "       0.05409975, 0.05431107, 0.05515638, 0.05543815, 0.05677656,\n",
       "       0.05846717, 0.05388842, 0.04811214, 0.04233587, 0.04402649,\n",
       "       0.0490279 , 0.04832347, 0.05297267, 0.05614258, 0.05290223,\n",
       "       0.05325444, 0.04909834, 0.04994365, 0.04797126, 0.05431107,\n",
       "       0.05212736, 0.04726684, 0.04895745, 0.04656241, 0.04839391,\n",
       "       0.04416737, 0.0485348 , 0.04719639, 0.04825303, 0.05395886,\n",
       "       0.05663567, 0.05853762, 0.05959425, 0.06375035, 0.06917442,\n",
       "       0.06889265, 0.06670893, 0.06910397, 0.07783883, 0.07565511,\n",
       "       0.07276698, 0.06889265, 0.0656523 , 0.06656805, 0.06769513])"
      ]
     },
     "execution_count": 36,
     "metadata": {},
     "output_type": "execute_result"
    }
   ],
   "source": [
    "X_train[0]"
   ]
  },
  {
   "cell_type": "code",
   "execution_count": 37,
   "metadata": {},
   "outputs": [
    {
     "data": {
      "text/plain": [
       "array([0.06029868, 0.06311637, 0.0781206 , 0.07262609, 0.07171034,\n",
       "       0.07657087, 0.07058326, 0.0669907 , 0.06494787, 0.075796  ,\n",
       "       0.07361229, 0.06417301, 0.05621302, 0.05783319, 0.05409975,\n",
       "       0.05431107, 0.05515638, 0.05543815, 0.05677656, 0.05846717,\n",
       "       0.05388842, 0.04811214, 0.04233587, 0.04402649, 0.0490279 ,\n",
       "       0.04832347, 0.05297267, 0.05614258, 0.05290223, 0.05325444,\n",
       "       0.04909834, 0.04994365, 0.04797126, 0.05431107, 0.05212736,\n",
       "       0.04726684, 0.04895745, 0.04656241, 0.04839391, 0.04416737,\n",
       "       0.0485348 , 0.04719639, 0.04825303, 0.05395886, 0.05663567,\n",
       "       0.05853762, 0.05959425, 0.06375035, 0.06917442, 0.06889265,\n",
       "       0.06670893, 0.06910397, 0.07783883, 0.07565511, 0.07276698,\n",
       "       0.06889265, 0.0656523 , 0.06656805, 0.06769513, 0.06875176])"
      ]
     },
     "execution_count": 37,
     "metadata": {},
     "output_type": "execute_result"
    }
   ],
   "source": [
    "X_train[1]"
   ]
  },
  {
   "cell_type": "code",
   "execution_count": 40,
   "metadata": {},
   "outputs": [],
   "source": [
    "X_train, y_train = np.array(X_train), np.array(y_train)"
   ]
  },
  {
   "cell_type": "markdown",
   "metadata": {},
   "source": [
    "### Reshape\n",
    "Remember we need to reshape LSTM training data into [samples, time steps, features]"
   ]
  },
  {
   "cell_type": "code",
   "execution_count": 41,
   "metadata": {},
   "outputs": [],
   "source": [
    "X_train = np.reshape(X_train, (X_train.shape[0], X_train.shape[1], 1))"
   ]
  },
  {
   "cell_type": "code",
   "execution_count": 45,
   "metadata": {},
   "outputs": [],
   "source": [
    "from keras.callbacks import TensorBoard\n",
    "import time"
   ]
  },
  {
   "cell_type": "code",
   "execution_count": 46,
   "metadata": {},
   "outputs": [
    {
     "name": "stdout",
     "output_type": "stream",
     "text": [
      "Epoch 1/50\n",
      "2709/2709 [==============================] - 22s 8ms/step - loss: 0.0236\n",
      "Epoch 2/50\n",
      "2709/2709 [==============================] - 17s 6ms/step - loss: 0.0102\n",
      "Epoch 3/50\n",
      "2709/2709 [==============================] - 17s 6ms/step - loss: 0.0083\n",
      "Epoch 4/50\n",
      "2709/2709 [==============================] - 17s 6ms/step - loss: 0.0068\n",
      "Epoch 5/50\n",
      "2709/2709 [==============================] - 17s 6ms/step - loss: 0.0064\n",
      "Epoch 6/50\n",
      "2709/2709 [==============================] - 17s 6ms/step - loss: 0.0057\n",
      "Epoch 7/50\n",
      "2709/2709 [==============================] - 21s 8ms/step - loss: 0.0050\n",
      "Epoch 8/50\n",
      "2709/2709 [==============================] - 17s 6ms/step - loss: 0.0044\n",
      "Epoch 9/50\n",
      "2709/2709 [==============================] - 17s 6ms/step - loss: 0.0045\n",
      "Epoch 10/50\n",
      "2709/2709 [==============================] - 17s 6ms/step - loss: 0.0037\n",
      "Epoch 11/50\n",
      "2709/2709 [==============================] - 18s 6ms/step - loss: 0.0037\n",
      "Epoch 12/50\n",
      "2709/2709 [==============================] - 17s 6ms/step - loss: 0.0035\n",
      "Epoch 13/50\n",
      "2709/2709 [==============================] - 18s 7ms/step - loss: 0.0034\n",
      "Epoch 14/50\n",
      "2709/2709 [==============================] - 20s 8ms/step - loss: 0.0030\n",
      "Epoch 15/50\n",
      "2709/2709 [==============================] - 17s 6ms/step - loss: 0.0030\n",
      "Epoch 16/50\n",
      "2709/2709 [==============================] - 17s 6ms/step - loss: 0.0030\n",
      "Epoch 17/50\n",
      "2709/2709 [==============================] - 17s 6ms/step - loss: 0.0030\n",
      "Epoch 18/50\n",
      "2709/2709 [==============================] - 17s 6ms/step - loss: 0.0027\n",
      "Epoch 19/50\n",
      "2709/2709 [==============================] - 17s 6ms/step - loss: 0.0026\n",
      "Epoch 20/50\n",
      "2709/2709 [==============================] - 18s 7ms/step - loss: 0.0024\n",
      "Epoch 21/50\n",
      "2709/2709 [==============================] - 17s 6ms/step - loss: 0.0024\n",
      "Epoch 22/50\n",
      "2709/2709 [==============================] - 18s 7ms/step - loss: 0.0023\n",
      "Epoch 23/50\n",
      "2709/2709 [==============================] - 17s 6ms/step - loss: 0.0023\n",
      "Epoch 24/50\n",
      "2709/2709 [==============================] - 17s 6ms/step - loss: 0.0023\n",
      "Epoch 25/50\n",
      "2709/2709 [==============================] - 22s 8ms/step - loss: 0.0022\n",
      "Epoch 26/50\n",
      "2709/2709 [==============================] - 20s 7ms/step - loss: 0.0020\n",
      "Epoch 27/50\n",
      "2709/2709 [==============================] - 18s 6ms/step - loss: 0.0021\n",
      "Epoch 28/50\n",
      "2709/2709 [==============================] - 17s 6ms/step - loss: 0.0021\n",
      "Epoch 29/50\n",
      "2709/2709 [==============================] - 17s 6ms/step - loss: 0.0019\n",
      "Epoch 30/50\n",
      "2709/2709 [==============================] - 17s 6ms/step - loss: 0.0020\n",
      "Epoch 31/50\n",
      "2709/2709 [==============================] - 17s 6ms/step - loss: 0.0019\n",
      "Epoch 32/50\n",
      "2709/2709 [==============================] - 19s 7ms/step - loss: 0.0019\n",
      "Epoch 33/50\n",
      "2709/2709 [==============================] - 17s 6ms/step - loss: 0.0019\n",
      "Epoch 34/50\n",
      "2709/2709 [==============================] - 18s 7ms/step - loss: 0.0018\n",
      "Epoch 35/50\n",
      "2709/2709 [==============================] - 17s 6ms/step - loss: 0.0018\n",
      "Epoch 36/50\n",
      "2709/2709 [==============================] - 17s 6ms/step - loss: 0.0017\n",
      "Epoch 37/50\n",
      "2709/2709 [==============================] - 17s 6ms/step - loss: 0.0016\n",
      "Epoch 38/50\n",
      "2709/2709 [==============================] - 17s 6ms/step - loss: 0.0017\n",
      "Epoch 39/50\n",
      "2709/2709 [==============================] - 17s 6ms/step - loss: 0.0015\n",
      "Epoch 40/50\n",
      "2709/2709 [==============================] - 17s 6ms/step - loss: 0.0017\n",
      "Epoch 41/50\n",
      "2709/2709 [==============================] - 17s 6ms/step - loss: 0.0015\n",
      "Epoch 42/50\n",
      "2709/2709 [==============================] - 19s 7ms/step - loss: 0.0015\n",
      "Epoch 43/50\n",
      "2709/2709 [==============================] - 19s 7ms/step - loss: 0.0017\n",
      "Epoch 44/50\n",
      "2709/2709 [==============================] - 17s 6ms/step - loss: 0.0015\n",
      "Epoch 45/50\n",
      "2709/2709 [==============================] - 17s 6ms/step - loss: 0.0015\n",
      "Epoch 46/50\n",
      "2709/2709 [==============================] - 17s 6ms/step - loss: 0.0015\n",
      "Epoch 47/50\n",
      "2709/2709 [==============================] - 17s 6ms/step - loss: 0.0015\n",
      "Epoch 48/50\n",
      "2709/2709 [==============================] - 17s 6ms/step - loss: 0.0015\n",
      "Epoch 49/50\n",
      "2709/2709 [==============================] - 19s 7ms/step - loss: 0.0015\n",
      "Epoch 50/50\n",
      "2709/2709 [==============================] - 18s 6ms/step - loss: 0.0015\n"
     ]
    },
    {
     "data": {
      "text/plain": [
       "<keras.callbacks.History at 0x7f2fd80a4cc0>"
      ]
     },
     "execution_count": 46,
     "metadata": {},
     "output_type": "execute_result"
    }
   ],
   "source": [
    "# Model name for Tensorboard\n",
    "NAME = f\"IBM_{int(time.time())}\"\n",
    "\n",
    "tensorboard = TensorBoard(log_dir = f\"logs/{NAME}\")\n",
    "\n",
    "regressor = Sequential()\n",
    "\n",
    "regressor.add(LSTM(50, input_shape=(X_train.shape[1], 1), return_sequences=True))\n",
    "regressor.add(Dropout(0.2))\n",
    "\n",
    "regressor.add(LSTM(50, return_sequences=True))\n",
    "regressor.add(Dropout(0.2))\n",
    "\n",
    "regressor.add(LSTM(50, return_sequences=True))\n",
    "regressor.add(Dropout(0.2))\n",
    "\n",
    "regressor.add(LSTM(50))\n",
    "regressor.add(Dropout(0.2))\n",
    "\n",
    "regressor.add(Dense(1))\n",
    "\n",
    "regressor.compile(optimizer=\"rmsprop\", loss=\"mean_squared_error\")\n",
    "\n",
    "regressor.fit(X_train, y_train, epochs=50, batch_size=32, callbacks=[tensorboard])"
   ]
  },
  {
   "cell_type": "markdown",
   "metadata": {},
   "source": [
    "### Test set prep"
   ]
  },
  {
   "cell_type": "code",
   "execution_count": 77,
   "metadata": {},
   "outputs": [],
   "source": [
    "# Now to get the test set ready in a similar way as the training set.\n",
    "# The following has been done so forst 60 entires of test set have 60 previous values which is impossible to get unless we take the whole \n",
    "# 'High' attribute data for processing\n",
    "dataset_total = pd.concat((dataset[\"High\"][:'2016'],dataset[\"High\"]['2017':]),axis=0)\n",
    "inputs = dataset_total[len(dataset_total)-len(test_set) - 60:].values"
   ]
  },
  {
   "cell_type": "code",
   "execution_count": 78,
   "metadata": {},
   "outputs": [],
   "source": [
    "inputs = inputs.reshape(-1,1)\n",
    "inputs  = sc.transform(inputs)"
   ]
  },
  {
   "cell_type": "code",
   "execution_count": 79,
   "metadata": {},
   "outputs": [],
   "source": [
    "# Preparing X_test and predicting the prices\n",
    "X_test = []\n",
    "y_test = []\n",
    "\n",
    "for i in range(60,311):\n",
    "    X_test.append(inputs[i-60:i,0])\n",
    "    y_test.append(inputs[i,0])"
   ]
  },
  {
   "cell_type": "code",
   "execution_count": 80,
   "metadata": {},
   "outputs": [],
   "source": [
    "X_test = np.array(X_test)"
   ]
  },
  {
   "cell_type": "code",
   "execution_count": 90,
   "metadata": {},
   "outputs": [],
   "source": [
    "y_test = np.array(y_test)"
   ]
  },
  {
   "cell_type": "code",
   "execution_count": 81,
   "metadata": {},
   "outputs": [
    {
     "data": {
      "text/plain": [
       "(251, 60)"
      ]
     },
     "execution_count": 81,
     "metadata": {},
     "output_type": "execute_result"
    }
   ],
   "source": [
    "X_test.shape"
   ]
  },
  {
   "cell_type": "code",
   "execution_count": 82,
   "metadata": {},
   "outputs": [],
   "source": [
    "# reshape into [samples, timestep, features]\n",
    "X_test = np.reshape(X_test, (X_test.shape[0],X_test.shape[1],1))"
   ]
  },
  {
   "cell_type": "markdown",
   "metadata": {},
   "source": [
    "### Predictions"
   ]
  },
  {
   "cell_type": "code",
   "execution_count": 83,
   "metadata": {},
   "outputs": [],
   "source": [
    "predicted_stock_price = regressor.predict(X_test)\n",
    "predicted_stock_price = sc.inverse_transform(predicted_stock_price)"
   ]
  },
  {
   "cell_type": "code",
   "execution_count": 84,
   "metadata": {},
   "outputs": [
    {
     "data": {
      "image/png": "[encoded data removed]",
      "text/plain": [
       "<Figure size 1080x576 with 1 Axes>"
      ]
     },
     "metadata": {},
     "output_type": "display_data"
    }
   ],
   "source": [
    "plot_predictions(test_set, predicted_stock_price)"
   ]
  },
  {
   "cell_type": "code",
   "execution_count": 91,
   "metadata": {},
   "outputs": [
    {
     "name": "stdout",
     "output_type": "stream",
     "text": [
      "Train on 2709 samples, validate on 251 samples\n",
      "Epoch 1/50\n",
      " - 29s - loss: 0.0261 - val_loss: 0.0025\n",
      "Epoch 2/50\n",
      " - 17s - loss: 0.0106 - val_loss: 0.0081\n",
      "Epoch 3/50\n",
      " - 18s - loss: 0.0087 - val_loss: 0.0011\n",
      "Epoch 4/50\n",
      " - 18s - loss: 0.0072 - val_loss: 0.0145\n",
      "Epoch 5/50\n",
      " - 17s - loss: 0.0062 - val_loss: 0.0013\n",
      "Epoch 6/50\n",
      " - 19s - loss: 0.0057 - val_loss: 0.0011\n",
      "Epoch 7/50\n",
      " - 17s - loss: 0.0049 - val_loss: 0.0044\n",
      "Epoch 8/50\n",
      " - 18s - loss: 0.0047 - val_loss: 0.0016\n",
      "Epoch 9/50\n",
      " - 18s - loss: 0.0042 - val_loss: 0.0053\n",
      "Epoch 10/50\n",
      " - 17s - loss: 0.0039 - val_loss: 0.0042\n",
      "Epoch 11/50\n",
      " - 17s - loss: 0.0037 - val_loss: 8.5617e-04\n",
      "Epoch 12/50\n",
      " - 18s - loss: 0.0037 - val_loss: 8.4361e-04\n",
      "Epoch 13/50\n",
      " - 17s - loss: 0.0032 - val_loss: 0.0036\n",
      "Epoch 14/50\n",
      " - 17s - loss: 0.0031 - val_loss: 0.0019\n",
      "Epoch 15/50\n",
      " - 17s - loss: 0.0029 - val_loss: 0.0011\n",
      "Epoch 16/50\n",
      " - 17s - loss: 0.0029 - val_loss: 0.0017\n",
      "Epoch 17/50\n",
      " - 17s - loss: 0.0030 - val_loss: 4.9187e-04\n",
      "Epoch 18/50\n",
      " - 17s - loss: 0.0027 - val_loss: 9.7537e-04\n",
      "Epoch 19/50\n",
      " - 22s - loss: 0.0026 - val_loss: 4.2601e-04\n",
      "Epoch 20/50\n",
      " - 17s - loss: 0.0025 - val_loss: 6.0054e-04\n",
      "Epoch 21/50\n",
      " - 18s - loss: 0.0023 - val_loss: 5.2909e-04\n",
      "Epoch 22/50\n",
      " - 17s - loss: 0.0024 - val_loss: 7.4915e-04\n",
      "Epoch 23/50\n",
      " - 20s - loss: 0.0023 - val_loss: 5.4928e-04\n",
      "Epoch 24/50\n",
      " - 17s - loss: 0.0023 - val_loss: 0.0015\n",
      "Epoch 25/50\n",
      " - 17s - loss: 0.0022 - val_loss: 0.0012\n",
      "Epoch 26/50\n",
      " - 17s - loss: 0.0022 - val_loss: 4.2255e-04\n",
      "Epoch 27/50\n",
      " - 17s - loss: 0.0021 - val_loss: 6.4996e-04\n",
      "Epoch 28/50\n",
      " - 18s - loss: 0.0020 - val_loss: 4.1965e-04\n",
      "Epoch 29/50\n",
      " - 18s - loss: 0.0020 - val_loss: 3.0652e-04\n",
      "Epoch 30/50\n",
      " - 17s - loss: 0.0019 - val_loss: 7.7430e-04\n",
      "Epoch 31/50\n",
      " - 17s - loss: 0.0019 - val_loss: 3.9841e-04\n",
      "Epoch 32/50\n",
      " - 17s - loss: 0.0019 - val_loss: 2.8427e-04\n",
      "Epoch 33/50\n",
      " - 17s - loss: 0.0019 - val_loss: 4.8198e-04\n",
      "Epoch 34/50\n",
      " - 17s - loss: 0.0018 - val_loss: 3.3021e-04\n",
      "Epoch 35/50\n",
      " - 19s - loss: 0.0017 - val_loss: 6.4588e-04\n",
      "Epoch 36/50\n",
      " - 23s - loss: 0.0018 - val_loss: 3.1455e-04\n",
      "Epoch 37/50\n",
      " - 18s - loss: 0.0017 - val_loss: 2.4529e-04\n",
      "Epoch 38/50\n",
      " - 18s - loss: 0.0017 - val_loss: 3.6501e-04\n",
      "Epoch 39/50\n",
      " - 17s - loss: 0.0017 - val_loss: 3.6574e-04\n",
      "Epoch 40/50\n",
      " - 19s - loss: 0.0016 - val_loss: 6.8431e-04\n",
      "Epoch 41/50\n",
      " - 18s - loss: 0.0016 - val_loss: 6.9331e-04\n",
      "Epoch 42/50\n",
      " - 18s - loss: 0.0016 - val_loss: 9.9733e-04\n",
      "Epoch 43/50\n",
      " - 18s - loss: 0.0015 - val_loss: 4.9879e-04\n",
      "Epoch 44/50\n",
      " - 19s - loss: 0.0015 - val_loss: 4.2367e-04\n",
      "Epoch 45/50\n",
      " - 19s - loss: 0.0015 - val_loss: 2.1207e-04\n",
      "Epoch 46/50\n",
      " - 18s - loss: 0.0015 - val_loss: 4.9270e-04\n",
      "Epoch 47/50\n",
      " - 18s - loss: 0.0015 - val_loss: 3.5393e-04\n",
      "Epoch 48/50\n",
      " - 17s - loss: 0.0014 - val_loss: 3.7977e-04\n",
      "Epoch 49/50\n",
      " - 17s - loss: 0.0015 - val_loss: 7.7083e-04\n",
      "Epoch 50/50\n",
      " - 17s - loss: 0.0014 - val_loss: 2.1828e-04\n"
     ]
    },
    {
     "data": {
      "text/plain": [
       "<keras.callbacks.History at 0x7f2f96788128>"
      ]
     },
     "execution_count": 91,
     "metadata": {},
     "output_type": "execute_result"
    }
   ],
   "source": [
    "# Model name for Tensorboard\n",
    "NAME = f\"IBM_{int(time.time())}\"\n",
    "\n",
    "tensorboard = TensorBoard(log_dir = f\"logs/{NAME}\")\n",
    "\n",
    "regressor = Sequential()\n",
    "\n",
    "regressor.add(LSTM(50, input_shape=(X_train.shape[1], 1), return_sequences=True))\n",
    "regressor.add(Dropout(0.2))\n",
    "\n",
    "regressor.add(LSTM(50, return_sequences=True))\n",
    "regressor.add(Dropout(0.2))\n",
    "\n",
    "regressor.add(LSTM(50, return_sequences=True))\n",
    "regressor.add(Dropout(0.2))\n",
    "\n",
    "regressor.add(LSTM(50))\n",
    "regressor.add(Dropout(0.2))\n",
    "\n",
    "regressor.add(Dense(1))\n",
    "\n",
    "regressor.compile(optimizer=\"rmsprop\", loss=\"mean_squared_error\")\n",
    "\n",
    "regressor.fit(X_train, y_train, epochs=50, batch_size=32,validation_data=(X_test, y_test), callbacks=[tensorboard], verbose=2)"
   ]
  },
  {
   "cell_type": "code",
   "execution_count": 92,
   "metadata": {},
   "outputs": [
    {
     "name": "stdout",
     "output_type": "stream",
     "text": [
      "The root mean squared error is 2.151426684807522.\n"
     ]
    }
   ],
   "source": [
    "return_rmse(test_set, predicted_stock_price)"
   ]
  },
  {
   "cell_type": "code",
   "execution_count": 93,
   "metadata": {},
   "outputs": [
    {
     "data": {
      "text/plain": [
       "dict_keys(['val_loss', 'loss'])"
      ]
     },
     "execution_count": 93,
     "metadata": {},
     "output_type": "execute_result"
    }
   ],
   "source": [
    "regressor.history.history.keys()"
   ]
  },
  {
   "cell_type": "code",
   "execution_count": 94,
   "metadata": {},
   "outputs": [
    {
     "data": {
      "image/png": "[encoded data removed]",
      "text/plain": [
       "<Figure size 432x288 with 1 Axes>"
      ]
     },
     "metadata": {},
     "output_type": "display_data"
    }
   ],
   "source": [
    "plt.plot(regressor.history.history['loss'])\n",
    "plt.plot(regressor.history.history['val_loss'])\n",
    "plt.title('model loss')\n",
    "plt.ylabel('loss')\n",
    "plt.xlabel('epoch')\n",
    "plt.legend(['train', 'test'], loc='upper right')\n",
    "plt.show()"
   ]
  },
  {
   "cell_type": "code",
   "execution_count": null,
   "metadata": {},
   "outputs": [],
   "source": []
  }
 ],
 "metadata": {
  "kernelspec": {
   "display_name": "Python 3",
   "language": "python",
   "name": "python3"
  },
  "language_info": {
   "codemirror_mode": {
    "name": "ipython",
    "version": 3
   },
   "file_extension": ".py",
   "mimetype": "text/x-python",
   "name": "python",
   "nbconvert_exporter": "python",
   "pygments_lexer": "ipython3",
   "version": "3.6.5"
  }
 },
 "nbformat": 4,
 "nbformat_minor": 2
}
