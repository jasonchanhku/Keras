{
 "cells": [
  {
   "cell_type": "code",
   "execution_count": null,
   "metadata": {},
   "outputs": [],
   "source": [
    "# Copyright 2019 Google LLC\n",
    "#\n",
    "# Licensed under the Apache License, Version 2.0 (the \"License\");\n",
    "# you may not use this file except in compliance with the License.\n",
    "# You may obtain a copy of the License at\n",
    "#\n",
    "#     https://www.apache.org/licenses/LICENSE-2.0\n",
    "#\n",
    "# Unless required by applicable law or agreed to in writing, software\n",
    "# distributed under the License is distributed on an \"AS IS\" BASIS,\n",
    "# WITHOUT WARRANTIES OR CONDITIONS OF ANY KIND, either express or implied.\n",
    "# See the License for the specific language governing permissions and\n",
    "# limitations under the License."
   ]
  },
  {
   "cell_type": "markdown",
   "metadata": {},
   "source": [
    "<a target=\"_blank\" href=\"https://colab.research.google.com/github/GoogleCloudPlatform/keras-idiomatic-programmer/blob/master/workshops/Idiomatic%20Programmer%20-%20handbook%202%20-%20Codelab%201.ipynb\">\n",
    "<img src=\"https://www.tensorflow.org/images/colab_logo_32px.png\" />Run in Google Colab</a>"
   ]
  },
  {
   "cell_type": "markdown",
   "metadata": {},
   "source": [
    "# Idiomatic Programmer Code Labs\n",
    "\n",
    "## Code Labs #1 - Get Familiar with Data Preprocessing\n",
    "\n",
    "## Prerequistes:\n",
    "\n",
    "    1. Familiar with Python\n",
    "    2. Completed Handbook 2/Part 7: Data Engineering\n",
    "\n",
    "## Objectives:\n",
    "\n",
    "    1. Reading and Resizing Images\n",
    "    2. Assembling images into datasets\n",
    "    3. Setting the datatype\n",
    "    4. Normalizing/Standardizing images"
   ]
  },
  {
   "cell_type": "markdown",
   "metadata": {},
   "source": [
    "## Setup:\n",
    "\n",
    "Install the additional relevant packages to get started with Keras/OpenCV, and then import them."
   ]
  },
  {
   "cell_type": "code",
   "execution_count": null,
   "metadata": {},
   "outputs": [],
   "source": [
    "# Install OpenCV computer vision package\n",
    "!pip install -U opencv-python\n",
    "\n",
    "# Import OpenCV \n",
    "import cv2\n",
    "# We will also be using the numpy package in this code lab\n",
    "import numpy as np\n",
    "\n",
    "print(cv2.__version__)"
   ]
  },
  {
   "cell_type": "markdown",
   "metadata": {},
   "source": [
    "## Reading/Resizing Images\n",
    "\n",
    "Let's read in an image and then resize it for input vector (for CNN) as 128x128.\n",
    "\n",
    "    \n",
    "You fill in the blanks (replace the ??), make sure it passes the Python interpreter, and then verify it's correctness with the summary output."
   ]
  },
  {
   "cell_type": "code",
   "execution_count": null,
   "metadata": {},
   "outputs": [],
   "source": [
    "from urllib.request import urlopen\n",
    "\n",
    "# Let's read in the image as a color image\n",
    "url = \"https://raw.githubusercontent.com/GoogleCloudPlatform/keras-idiomatic-programmer/master/workshops/apple.jpg\"\n",
    "request = urlopen(url)\n",
    "img_array = np.asarray(bytearray(request.read()), dtype=np.uint8)\n",
    "# HINT: the parameter value for a color image\n",
    "image = cv2.imdecode(img_array, cv2.IMREAD_??)\n",
    "\n",
    "# Let's verify we read it in correctly. We should see (584, 612, 3)\n",
    "print(image.shape)"
   ]
  },
  {
   "cell_type": "markdown",
   "metadata": {},
   "source": [
    "### Resize it to 128 x 128\n",
    "\n",
    "Okay, we see that the image is 584 (height) x 612 (width). Hum, that's not square. We could simply resize it to 128 x 128. But if we do that, the image will be skewed. Why? Because the original height and width are not the same, and if we resize them as-is to the same length, we will distort the aspect ratio,\n",
    "\n",
    "So, let's refit the image into a square frame and then resize it."
   ]
  },
  {
   "cell_type": "code",
   "execution_count": null,
   "metadata": {},
   "outputs": [],
   "source": [
    "# Let's calculate the difference between width and height -- this should output 28\n",
    "pad = (612 - 584)\n",
    "print(\"pad size\", pad)\n",
    "\n",
    "# Split the padding evenly between the top and bottom\n",
    "# HINT: even means half.\n",
    "top = pad // ??\n",
    "bottom = pad // ??\n",
    "left = 0\n",
    "right = 0\n",
    "\n",
    "# Let's now make a copy of the image with the padded border.\n",
    "# cv2.BORDER_CONSTANT means use a constant value for the padded border.\n",
    "# [0, 0, 0] is the constant value (all black pixels)\n",
    "color = [0, 0, 0]\n",
    "image = cv2.copyMakeBorder(image, top, bottom, left, right, cv2.BORDER_CONSTANT, \n",
    "                               value=color)\n",
    "\n",
    "# This should output (612, 612, 3)\n",
    "print(\"padded image\", image.shape)"
   ]
  },
  {
   "cell_type": "code",
   "execution_count": null,
   "metadata": {},
   "outputs": [],
   "source": [
    "# Let's resize the image now to 128 x 128\n",
    "# HINT: The tuple parameter is height x width\n",
    "image = cv2.resize(image, (128, 128))\n",
    "\n",
    "# This should output (128, 128, 3)\n",
    "print(\"resized image\", image.shape)"
   ]
  },
  {
   "cell_type": "markdown",
   "metadata": {},
   "source": [
    "## Assemblying into a dataset.\n",
    "\n",
    "Let's read in a group of images, resize them to the same size and assembly into a dataset (i.e., a single numpy multidimensional array)"
   ]
  },
  {
   "cell_type": "code",
   "execution_count": null,
   "metadata": {},
   "outputs": [],
   "source": [
    "# Let's build a dataset of four images. We will start by using a list to append each image\n",
    "# as it is read in.\n",
    "images = []\n",
    "for _ in range(4):\n",
    "    # Let's pretend we are reading in different images and resizing them,\n",
    "    # but instead we will just reuse our image from above.\n",
    "    images.append(image)\n",
    "\n",
    "# convert the list of images to a numpy multidimensional array\n",
    "# HINT: use the method that converts list to numpy array\n",
    "images = np.??(images)\n",
    "\n",
    "# This should output (4, 128, 128, 3, where the 4 indicates this is a batch of 4 images.\n",
    "print(\"dataset\", images.shape)"
   ]
  },
  {
   "cell_type": "markdown",
   "metadata": {},
   "source": [
    "## Setting the Datatype\n",
    "\n",
    "Next, we will set the data type of the pixel data to a single precision floating point value. That's a FLOAT32, which means 32 bits (which is 4 bytes)"
   ]
  },
  {
   "cell_type": "code",
   "execution_count": null,
   "metadata": {},
   "outputs": [],
   "source": [
    "# Set the datatype to single precision float (FLOAT32)\n",
    "# HINT: It is lowercased.\n",
    "images = images.astype(np.float32)\n",
    "\n",
    "# This should output: 4\n",
    "print(\"bytes per pixel\", images.itemsize)"
   ]
  },
  {
   "cell_type": "markdown",
   "metadata": {},
   "source": [
    "## Normalizing/Standardizing the Pixel Data\n",
    "\n",
    "Finally, we will standardize the pixel data:\n",
    "\n",
    "    1. Calculate the mean and standard deviation using numpy methods\n",
    "    2. Substract the mean from images and then divide by the standard deviation"
   ]
  },
  {
   "cell_type": "code",
   "execution_count": null,
   "metadata": {},
   "outputs": [],
   "source": [
    "# Calculate the mean value across all the pixels\n",
    "mean = np.mean(images)\n",
    "# Calculate the corresponding standard deviation\n",
    "std  = np.std(images)\n",
    "\n",
    "# Subtract the mean and divide by the standard deviation\n",
    "# HINT: you calculate the standard deviation above.\n",
    "images = (images - mean) / ??\n",
    "\n",
    "# Let's print the before and after values:\n",
    "# You should see: 3.1789145e-07 -7.0159636e-08\n",
    "print(mean, np.mean(images))"
   ]
  },
  {
   "cell_type": "markdown",
   "metadata": {},
   "source": [
    "## End of Code Lab"
   ]
  }
 ],
 "metadata": {
  "kernelspec": {
   "display_name": "Python 3",
   "language": "python",
   "name": "python3"
  },
  "language_info": {
   "codemirror_mode": {
    "name": "ipython",
    "version": 3
   },
   "file_extension": ".py",
   "mimetype": "text/x-python",
   "name": "python",
   "nbconvert_exporter": "python",
   "pygments_lexer": "ipython3",
   "version": "3.6.5"
  }
 },
 "nbformat": 4,
 "nbformat_minor": 2
}
