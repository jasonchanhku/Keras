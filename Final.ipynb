{
 "cells": [
  {
   "cell_type": "code",
   "execution_count": 1,
   "metadata": {},
   "outputs": [
    {
     "name": "stderr",
     "output_type": "stream",
     "text": [
      "/home/jasonchandatascience/anaconda3/lib/python3.6/site-packages/h5py/__init__.py:36: FutureWarning: Conversion of the second argument of issubdtype from `float` to `np.floating` is deprecated. In future, it will be treated as `np.float64 == np.dtype(float).type`.\n",
      "  from ._conv import register_converters as _register_converters\n"
     ]
    }
   ],
   "source": [
    "import tensorflow as tf\n",
    "from tensorflow.keras.models import Sequential\n",
    "from tensorflow.keras.layers import Activation, Dense, Dropout, Flatten, Conv2D, MaxPooling2D\n",
    "from tensorflow.keras.callbacks import TensorBoard\n",
    "import pickle\n",
    "import time\n",
    "\n",
    "\n",
    "pickle_in = open(\"X.pickle\", \"rb\")\n",
    "X = pickle.load(pickle_in)\n",
    "\n",
    "pickle_in = open(\"y.pickle\", \"rb\")\n",
    "y = pickle.load(pickle_in)\n",
    "\n",
    "# normalize X\n",
    "X = tf.keras.utils.normalize(X, axis =1)"
   ]
  },
  {
   "cell_type": "code",
   "execution_count": null,
   "metadata": {},
   "outputs": [
    {
     "name": "stdout",
     "output_type": "stream",
     "text": [
      "Training: 3-conv-64-nodes-0-dense-1547827439\n",
      "Train on 17462 samples, validate on 7484 samples\n",
      "Epoch 1/10\n",
      "17462/17462 [==============================] - 45s 3ms/step - loss: 0.6891 - acc: 0.5245 - val_loss: 0.6828 - val_acc: 0.5513\n",
      "Epoch 2/10\n",
      "17462/17462 [==============================] - 44s 3ms/step - loss: 0.6461 - acc: 0.6309 - val_loss: 0.6340 - val_acc: 0.6317\n",
      "Epoch 3/10\n",
      "17462/17462 [==============================] - 44s 3ms/step - loss: 0.5825 - acc: 0.6943 - val_loss: 0.5579 - val_acc: 0.7115\n",
      "Epoch 4/10\n",
      "17462/17462 [==============================] - 44s 3ms/step - loss: 0.5268 - acc: 0.7344 - val_loss: 0.5441 - val_acc: 0.7221\n",
      "Epoch 5/10\n",
      "17462/17462 [==============================] - 44s 3ms/step - loss: 0.4892 - acc: 0.7637 - val_loss: 0.5186 - val_acc: 0.7455\n",
      "Epoch 6/10\n",
      "  320/17462 [..............................] - ETA: 37s - loss: 0.4536 - acc: 0.8156"
     ]
    }
   ],
   "source": [
    "# after identifying model of best fit\n",
    "dense_layers = [0]\n",
    "layer_sizes = [64]\n",
    "conv_layers = [3]\n",
    "\n",
    "for dense_layer in dense_layers:\n",
    "    for layer_size in layer_sizes:\n",
    "        for conv_layer in conv_layers:\n",
    "            NAME = f\"{conv_layer}-conv-{layer_size}-nodes-{dense_layer}-dense-{int(time.time())}\"\n",
    "            print(f\"Training: {NAME}\")\n",
    "            tensorboard = TensorBoard(log_dir = f\"logs/{NAME}\")\n",
    "            # Building the model\n",
    "            model = Sequential()\n",
    "\n",
    "            model.add(Conv2D(layer_size, (3,3), input_shape = X.shape[1:]))\n",
    "            model.add(Activation('relu'))\n",
    "            model.add(MaxPooling2D(pool_size=(2,2)))\n",
    "            \n",
    "            for l in range(conv_layer-1):\n",
    "                model.add(Conv2D(layer_size, (3,3)))\n",
    "                model.add(Activation('relu'))\n",
    "                model.add(MaxPooling2D(pool_size=(2,2)))\n",
    "\n",
    "            model.add(Flatten())\n",
    "            \n",
    "            for l in range(dense_layer):\n",
    "                model.add(Dense(layer_size))\n",
    "                model.add(Activation(\"relu\"))\n",
    "                \n",
    "            model.add(Dense(64))\n",
    "            model.add(Activation(\"relu\"))\n",
    "\n",
    "            model.add(Dense(1))\n",
    "            model.add(Activation(\"sigmoid\"))\n",
    "\n",
    "            model.compile(loss = \"binary_crossentropy\",\n",
    "                         optimizer = \"adam\",\n",
    "                         metrics = ['accuracy'])\n",
    "\n",
    "            model.fit(X, y, batch_size = 32, epochs = 10, validation_split = 0.3, callbacks = [tensorboard])\n",
    "\n",
    "model.save('final.model')"
   ]
  },
  {
   "cell_type": "code",
   "execution_count": 3,
   "metadata": {},
   "outputs": [],
   "source": []
  },
  {
   "cell_type": "code",
   "execution_count": null,
   "metadata": {},
   "outputs": [],
   "source": []
  }
 ],
 "metadata": {
  "kernelspec": {
   "display_name": "Python 3",
   "language": "python",
   "name": "python3"
  },
  "language_info": {
   "codemirror_mode": {
    "name": "ipython",
    "version": 3
   },
   "file_extension": ".py",
   "mimetype": "text/x-python",
   "name": "python",
   "nbconvert_exporter": "python",
   "pygments_lexer": "ipython3",
   "version": "3.6.5"
  }
 },
 "nbformat": 4,
 "nbformat_minor": 2
}
